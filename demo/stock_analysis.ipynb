{
 "cells": [
  {
   "cell_type": "code",
   "execution_count": 1,
   "metadata": {},
   "outputs": [
    {
     "name": "stdout",
     "output_type": "stream",
     "text": [
      "<class 'pandas.core.frame.DataFrame'>\n",
      "RangeIndex: 14200 entries, 0 to 14199\n",
      "Data columns (total 8 columns):\n",
      " #   Column  Non-Null Count  Dtype  \n",
      "---  ------  --------------  -----  \n",
      " 0   Ticker  14200 non-null  object \n",
      " 1   close   14200 non-null  float64\n",
      " 2   date    14200 non-null  object \n",
      " 3   high    14200 non-null  float64\n",
      " 4   low     14200 non-null  float64\n",
      " 5   month   14200 non-null  object \n",
      " 6   open    14200 non-null  float64\n",
      " 7   volume  14200 non-null  int64  \n",
      "dtypes: float64(4), int64(1), object(3)\n",
      "memory usage: 887.6+ KB\n",
      "None\n",
      "       Ticker    close                 date    high      low    month    open  \\\n",
      "0        SBIN   602.95  2023-10-03 05:30:00   604.9   589.60  2023-10   596.6   \n",
      "1  BAJFINANCE  7967.60  2023-10-03 05:30:00  7975.5  7755.00  2023-10  7780.8   \n",
      "2       TITAN  3196.25  2023-10-03 05:30:00  3212.5  3114.40  2023-10  3148.8   \n",
      "3         ITC   439.75  2023-10-03 05:30:00   442.9   439.25  2023-10   441.0   \n",
      "4         TCS  3513.85  2023-10-03 05:30:00  3534.2  3480.10  2023-10  3534.2   \n",
      "\n",
      "     volume  \n",
      "0  15322196  \n",
      "1    944555  \n",
      "2   1007308  \n",
      "3   7481883  \n",
      "4   1948148  \n"
     ]
    }
   ],
   "source": [
    "import pandas as pd\n",
    "import matplotlib.pyplot as plt\n",
    "import seaborn as sns\n",
    "from pathlib import Path\n",
    "\n",
    "file_path = Path(\"D:/projects/stock/outputcsv/combined.csv\")\n",
    "df=pd.read_csv(file_path)\n",
    "\n",
    "print(df.info())\n",
    "print(df.head())\n",
    "\n"
   ]
  },
  {
   "cell_type": "code",
   "execution_count": 4,
   "metadata": {},
   "outputs": [
    {
     "name": "stdout",
     "output_type": "stream",
     "text": [
      "       Ticker    close                 date    high      low    month    open  \\\n",
      "0        SBIN   602.95  2023-10-03 05:30:00   604.9   589.60  2023-10   596.6   \n",
      "1  BAJFINANCE  7967.60  2023-10-03 05:30:00  7975.5  7755.00  2023-10  7780.8   \n",
      "2       TITAN  3196.25  2023-10-03 05:30:00  3212.5  3114.40  2023-10  3148.8   \n",
      "3         ITC   439.75  2023-10-03 05:30:00   442.9   439.25  2023-10   441.0   \n",
      "4         TCS  3513.85  2023-10-03 05:30:00  3534.2  3480.10  2023-10  3534.2   \n",
      "\n",
      "     volume  daily_return  cumulative_return  \n",
      "0  15322196           NaN                NaN  \n",
      "1    944555     12.214363          13.214363  \n",
      "2   1007308     -0.598844           5.301020  \n",
      "3   7481883     -0.862417           0.729331  \n",
      "4   1948148      6.990563           5.827763  \n"
     ]
    }
   ],
   "source": [
    "def analyze_votalility(df):\n",
    "    df['daily_return']=df['close'].pct_change()\n",
    "    df['cumulative_return']=(1+df['daily_return']).cumprod()\n",
    "    return df\n",
    "\n",
    "print(df.head())\n",
    "\n",
    "df=analyze_votalility(df)\n"
   ]
  },
  {
   "cell_type": "code",
   "execution_count": null,
   "metadata": {},
   "outputs": [],
   "source": []
  }
 ],
 "metadata": {
  "kernelspec": {
   "display_name": ".venv",
   "language": "python",
   "name": "python3"
  },
  "language_info": {
   "codemirror_mode": {
    "name": "ipython",
    "version": 3
   },
   "file_extension": ".py",
   "mimetype": "text/x-python",
   "name": "python",
   "nbconvert_exporter": "python",
   "pygments_lexer": "ipython3",
   "version": "3.12.6"
  }
 },
 "nbformat": 4,
 "nbformat_minor": 2
}
