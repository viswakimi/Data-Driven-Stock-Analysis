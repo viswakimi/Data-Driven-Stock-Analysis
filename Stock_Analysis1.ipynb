{
 "cells": [
  {
   "cell_type": "code",
   "execution_count": null,
   "metadata": {},
   "outputs": [
    {
     "name": "stdout",
     "output_type": "stream",
     "text": [
      "Data saved to D:/projects/stock/output/combined.csv\n"
     ]
    }
   ],
   "source": [
    "import pandas as pd\n",
    "from pathlib import Path\n",
    "import yaml\n",
    "import matplotlib.pyplot as plt\n",
    "import seaborn as sns\n",
    "import streamlit as st\n",
    "from datetime import timedelta\n",
    "\n",
    "def yaml_to_csv(input_folder, output_file):\n",
    "    \n",
    "    Path(output_file).parent.mkdir(parents=True, exist_ok=True)\n",
    "    combined_data = []\n",
    "\n",
    "    for month_path in Path(input_folder).iterdir():\n",
    "        if not month_path.is_dir():\n",
    "            continue\n",
    "\n",
    "        for file_path in month_path.glob('*.yaml'):\n",
    "            with open(file_path, 'r') as file:\n",
    "                data = yaml.safe_load(file)\n",
    "                combined_data.append(pd.DataFrame(data))\n",
    "\n",
    "    if combined_data:\n",
    "        combined_df = pd.concat(combined_data, ignore_index=True)\n",
    "        combined_df.to_csv(output_file, index=False)\n",
    "        print(f\"Data saved to {output_file}\")\n",
    "    else:\n",
    "        print(\"No data found.\")\n",
    "\n",
    "if __name__ == \"__main__\":\n",
    "    input_folder = \"D:/projects/stock/data\"\n",
    "    output_file = \"D:/projects/stock/output/combined.csv\"\n",
    "\n",
    "    yaml_to_csv(input_folder, output_file)"
   ]
  },
  {
   "cell_type": "code",
   "execution_count": 49,
   "metadata": {},
   "outputs": [
    {
     "data": {
      "text/html": [
       "<div>\n",
       "<style scoped>\n",
       "    .dataframe tbody tr th:only-of-type {\n",
       "        vertical-align: middle;\n",
       "    }\n",
       "\n",
       "    .dataframe tbody tr th {\n",
       "        vertical-align: top;\n",
       "    }\n",
       "\n",
       "    .dataframe thead th {\n",
       "        text-align: right;\n",
       "    }\n",
       "</style>\n",
       "<table border=\"1\" class=\"dataframe\">\n",
       "  <thead>\n",
       "    <tr style=\"text-align: right;\">\n",
       "      <th></th>\n",
       "      <th>Ticker</th>\n",
       "      <th>close</th>\n",
       "      <th>date</th>\n",
       "      <th>high</th>\n",
       "      <th>low</th>\n",
       "      <th>month</th>\n",
       "      <th>open</th>\n",
       "      <th>volume</th>\n",
       "    </tr>\n",
       "  </thead>\n",
       "  <tbody>\n",
       "    <tr>\n",
       "      <th>0</th>\n",
       "      <td>SBIN</td>\n",
       "      <td>602.95</td>\n",
       "      <td>2023-10-03 05:30:00</td>\n",
       "      <td>604.9</td>\n",
       "      <td>589.60</td>\n",
       "      <td>2023-10</td>\n",
       "      <td>596.6</td>\n",
       "      <td>15322196</td>\n",
       "    </tr>\n",
       "    <tr>\n",
       "      <th>1</th>\n",
       "      <td>BAJFINANCE</td>\n",
       "      <td>7967.60</td>\n",
       "      <td>2023-10-03 05:30:00</td>\n",
       "      <td>7975.5</td>\n",
       "      <td>7755.00</td>\n",
       "      <td>2023-10</td>\n",
       "      <td>7780.8</td>\n",
       "      <td>944555</td>\n",
       "    </tr>\n",
       "    <tr>\n",
       "      <th>2</th>\n",
       "      <td>TITAN</td>\n",
       "      <td>3196.25</td>\n",
       "      <td>2023-10-03 05:30:00</td>\n",
       "      <td>3212.5</td>\n",
       "      <td>3114.40</td>\n",
       "      <td>2023-10</td>\n",
       "      <td>3148.8</td>\n",
       "      <td>1007308</td>\n",
       "    </tr>\n",
       "    <tr>\n",
       "      <th>3</th>\n",
       "      <td>ITC</td>\n",
       "      <td>439.75</td>\n",
       "      <td>2023-10-03 05:30:00</td>\n",
       "      <td>442.9</td>\n",
       "      <td>439.25</td>\n",
       "      <td>2023-10</td>\n",
       "      <td>441.0</td>\n",
       "      <td>7481883</td>\n",
       "    </tr>\n",
       "    <tr>\n",
       "      <th>4</th>\n",
       "      <td>TCS</td>\n",
       "      <td>3513.85</td>\n",
       "      <td>2023-10-03 05:30:00</td>\n",
       "      <td>3534.2</td>\n",
       "      <td>3480.10</td>\n",
       "      <td>2023-10</td>\n",
       "      <td>3534.2</td>\n",
       "      <td>1948148</td>\n",
       "    </tr>\n",
       "  </tbody>\n",
       "</table>\n",
       "</div>"
      ],
      "text/plain": [
       "       Ticker    close                 date    high      low    month    open  \\\n",
       "0        SBIN   602.95  2023-10-03 05:30:00   604.9   589.60  2023-10   596.6   \n",
       "1  BAJFINANCE  7967.60  2023-10-03 05:30:00  7975.5  7755.00  2023-10  7780.8   \n",
       "2       TITAN  3196.25  2023-10-03 05:30:00  3212.5  3114.40  2023-10  3148.8   \n",
       "3         ITC   439.75  2023-10-03 05:30:00   442.9   439.25  2023-10   441.0   \n",
       "4         TCS  3513.85  2023-10-03 05:30:00  3534.2  3480.10  2023-10  3534.2   \n",
       "\n",
       "     volume  \n",
       "0  15322196  \n",
       "1    944555  \n",
       "2   1007308  \n",
       "3   7481883  \n",
       "4   1948148  "
      ]
     },
     "execution_count": 49,
     "metadata": {},
     "output_type": "execute_result"
    }
   ],
   "source": [
    "import pandas as pd\n",
    "from pathlib import Path\n",
    "\n",
    "\n",
    "file_path = Path(\"D:/projects/stock/output/combined.csv\")\n",
    "df = pd.read_csv(file_path)\n",
    "\n",
    "df.head()"
   ]
  },
  {
   "cell_type": "code",
   "execution_count": 50,
   "metadata": {},
   "outputs": [
    {
     "name": "stdout",
     "output_type": "stream",
     "text": [
      "<class 'pandas.core.frame.DataFrame'>\n",
      "RangeIndex: 14200 entries, 0 to 14199\n",
      "Data columns (total 8 columns):\n",
      " #   Column  Non-Null Count  Dtype  \n",
      "---  ------  --------------  -----  \n",
      " 0   Ticker  14200 non-null  object \n",
      " 1   close   14200 non-null  float64\n",
      " 2   date    14200 non-null  object \n",
      " 3   high    14200 non-null  float64\n",
      " 4   low     14200 non-null  float64\n",
      " 5   month   14200 non-null  object \n",
      " 6   open    14200 non-null  float64\n",
      " 7   volume  14200 non-null  int64  \n",
      "dtypes: float64(4), int64(1), object(3)\n",
      "memory usage: 887.6+ KB\n"
     ]
    }
   ],
   "source": [
    "df.info()"
   ]
  },
  {
   "cell_type": "code",
   "execution_count": null,
   "metadata": {},
   "outputs": [
    {
     "name": "stdout",
     "output_type": "stream",
     "text": [
      "Top 10 Green Stocks:        Ticker  year  first_open  last_close  yearly_return\n",
      "95       TRENT  2024     3061.80     6652.80     117.283951\n",
      "61         M&M  2024     1729.40     3012.95      74.219382\n",
      "19  BHARTIARTL  2024     1031.95     1569.30      52.071321\n",
      "17         BEL  2024      184.80      280.85      51.975108\n",
      "94       TRENT  2023     2074.30     3054.95      47.276190\n",
      "81   SUNPHARMA  2024     1261.00     1795.30      42.371134\n",
      "71   POWERGRID  2024      237.90      336.95      41.635141\n",
      "11  BAJAJ-AUTO  2024     6770.00     9481.65      40.053914\n",
      "79  SHRIRAMFIN  2024     2055.55     2850.05      38.651456\n",
      "91       TECHM  2024     1273.00     1747.45      37.270228\n",
      "\n",
      " Top 10 Loss Stocks:        Ticker  year  first_open  last_close  yearly_return\n",
      "49  INDUSINDBK  2024     1598.95      998.20     -37.571531\n",
      "7   ASIANPAINT  2024     3403.00     2472.20     -27.352336\n",
      "1     ADANIENT  2024     2852.30     2228.00     -21.887599\n",
      "65   NESTLEIND  2024     2665.00     2247.30     -15.673546\n",
      "83  TATACONSUM  2024     1080.42      945.20     -12.515503\n",
      "93       TITAN  2024     3689.00     3308.70     -10.309027\n",
      "23   BRITANNIA  2024     5339.00     4848.35      -9.189923\n",
      "15  BAJFINANCE  2024     7336.95     6683.95      -8.900156\n",
      "45  HINDUNILVR  2024     2663.85     2445.25      -8.206168\n",
      "57   KOTAKBANK  2024     1909.00     1761.45      -7.729178\n",
      "\n",
      " Number of Green Stocks: 86\n",
      "Number of Loss Stocks: 14\n",
      " Avg Price: 2450.20\n",
      " Avg Volume: 6833474.65\n"
     ]
    }
   ],
   "source": [
    "import pandas as pd\n",
    "from pathlib import Path\n",
    "\n",
    "def analyse_data():\n",
    "    file_path = Path(\"D:/projects/stock/output/combined.csv\")\n",
    "    df = pd.read_csv(file_path)\n",
    "\n",
    "    df['date'] = pd.to_datetime(df['date'])\n",
    "    df['year'] = df['date'].dt.year\n",
    "\n",
    "    # For yearly analysis\n",
    "    yearly_data = df.groupby(['Ticker', 'year']).agg(\n",
    "        first_open=('open', 'first'),\n",
    "        last_close=('close', 'last')\n",
    "    ).reset_index()\n",
    "\n",
    "    yearly_data['yearly_return'] = ((yearly_data['last_close'] - yearly_data['first_open']) / \n",
    "                                    yearly_data['first_open']) * 100\n",
    "    \n",
    "    top_10_green_stocks = yearly_data.nlargest(10, 'yearly_return')\n",
    "    top_10_loss_stocks = yearly_data.nsmallest(10, 'yearly_return')\n",
    "\n",
    "    green_stocks = (yearly_data['yearly_return'] > 0).sum()\n",
    "    loss_stocks = (yearly_data['yearly_return'] <= 0).sum()\n",
    "    \n",
    "    \n",
    "    df[\"average_price\"] = (df[\"open\"] + df[\"close\"]) / 2\n",
    "    avg_price = df[\"average_price\"].mean()\n",
    "\n",
    "    avg_volume = df[\"volume\"].mean()\n",
    "\n",
    "    print(f\"Top 10 Green Stocks:{top_10_green_stocks}\")\n",
    "    print(f\"\\n Top 10 Loss Stocks:{top_10_loss_stocks}\")\n",
    "    print(f\"\\n Number of Green Stocks: {green_stocks}\")\n",
    "    print(f\"Number of Loss Stocks: {loss_stocks}\")\n",
    "    print(f\"Avg Price: {avg_price:.2f}\")\n",
    "    print(f\"Avg Volume: {avg_volume:.2f}\")\n",
    "\n",
    "    return top_10_green_stocks, top_10_loss_stocks\n",
    "\n",
    "top_10_green_stocks, top_10_loss_stocks = analyse_data()\n"
   ]
  },
  {
   "cell_type": "code",
   "execution_count": 58,
   "metadata": {},
   "outputs": [
    {
     "name": "stdout",
     "output_type": "stream",
     "text": [
      "Top 10 Tickers with the Highest Volatility: Ticker\n",
      "ADANIENT      0.028601\n",
      "ADANIPORTS    0.026029\n",
      "BEL           0.023283\n",
      "TRENT         0.023074\n",
      "ONGC          0.022247\n",
      "BPCL          0.022069\n",
      "SHRIRAMFIN    0.021687\n",
      "COALINDIA     0.021411\n",
      "HINDALCO      0.019587\n",
      "NTPC          0.019475\n",
      "Name: daily_return, dtype: float64\n"
     ]
    }
   ],
   "source": [
    "df['daily_return'] = df.groupby('Ticker')['close'].pct_change()\n",
    "volatility = df.groupby('Ticker')['daily_return'].std().nlargest(10)\n",
    "print(f\"Top 10 Tickers with the Highest Volatility: {volatility}\")"
   ]
  },
  {
   "cell_type": "code",
   "execution_count": 60,
   "metadata": {},
   "outputs": [
    {
     "data": {
      "image/png": "[encoded data removed]",
      "text/plain": [
       "<Figure size 600x600 with 1 Axes>"
      ]
     },
     "metadata": {},
     "output_type": "display_data"
    }
   ],
   "source": [
    "plt.figure(figsize=(6, 6))\n",
    "sns.barplot(x=volatility.index, y=volatility.values)\n",
    "plt.title('Top 10 Most Volatile Stocks')\n",
    "plt.xlabel('Ticker')\n",
    "plt.ylabel('Volatility (Standard Deviation)')\n",
    "plt.xticks(rotation=45)\n",
    "plt.tight_layout()\n",
    "plt.savefig('top_10_volatile_stocks.png')\n",
    "plt.show()"
   ]
  },
  {
   "cell_type": "code",
   "execution_count": null,
   "metadata": {},
   "outputs": [],
   "source": []
  }
 ],
 "metadata": {
  "kernelspec": {
   "display_name": ".venv",
   "language": "python",
   "name": "python3"
  },
  "language_info": {
   "codemirror_mode": {
    "name": "ipython",
    "version": 3
   },
   "file_extension": ".py",
   "mimetype": "text/x-python",
   "name": "python",
   "nbconvert_exporter": "python",
   "pygments_lexer": "ipython3",
   "version": "3.12.6"
  }
 },
 "nbformat": 4,
 "nbformat_minor": 2
}
