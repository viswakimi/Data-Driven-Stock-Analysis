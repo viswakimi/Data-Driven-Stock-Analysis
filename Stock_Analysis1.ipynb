{
 "cells": [
  {
   "cell_type": "code",
   "execution_count": null,
   "metadata": {},
   "outputs": [
    {
     "name": "stdout",
     "output_type": "stream",
     "text": [
      "Data saved to D:/projects/stock/output/combined.csv\n"
     ]
    }
   ],
   "source": [
    "import pandas as pd\n",
    "from pathlib import Path\n",
    "import yaml\n",
    "\n",
    "def yaml_to_csv(input_folder, output_file):\n",
    "    \n",
    "    Path(output_file).parent.mkdir(parents=True, exist_ok=True)\n",
    "    combined_data = []\n",
    "\n",
    "    for month_path in Path(input_folder).iterdir():\n",
    "        if not month_path.is_dir():\n",
    "            continue\n",
    "\n",
    "        for file_path in month_path.glob('*.yaml'):\n",
    "            with open(file_path, 'r') as file:\n",
    "                data = yaml.safe_load(file)\n",
    "                combined_data.append(pd.DataFrame(data))\n",
    "\n",
    "    if combined_data:\n",
    "        combined_df = pd.concat(combined_data, ignore_index=True)\n",
    "        combined_df.to_csv(output_file, index=False)\n",
    "        print(f\"Data saved to {output_file}\")\n",
    "    else:\n",
    "        print(\"No data found.\")\n",
    "\n",
    "if __name__ == \"__main__\":\n",
    "    input_folder = \"D:/projects/stock/data\"\n",
    "    output_file = \"D:/projects/stock/output/combined.csv\"\n",
    "\n",
    "    yaml_to_csv(input_folder, output_file)"
   ]
  },
  {
   "cell_type": "code",
   "execution_count": null,
   "metadata": {},
   "outputs": [
    {
     "name": "stdout",
     "output_type": "stream",
     "text": [
      "Top 10 Green Stocks:        Ticker  year  first_open  last_close  yearly_return\n",
      "95       TRENT  2024     3061.80     6652.80     117.283951\n",
      "61         M&M  2024     1729.40     3012.95      74.219382\n",
      "19  BHARTIARTL  2024     1031.95     1569.30      52.071321\n",
      "17         BEL  2024      184.80      280.85      51.975108\n",
      "94       TRENT  2023     2074.30     3054.95      47.276190\n",
      "81   SUNPHARMA  2024     1261.00     1795.30      42.371134\n",
      "71   POWERGRID  2024      237.90      336.95      41.635141\n",
      "11  BAJAJ-AUTO  2024     6770.00     9481.65      40.053914\n",
      "79  SHRIRAMFIN  2024     2055.55     2850.05      38.651456\n",
      "91       TECHM  2024     1273.00     1747.45      37.270228\n",
      "\n",
      " Top 10 Loss Stocks:        Ticker  year  first_open  last_close  yearly_return\n",
      "49  INDUSINDBK  2024     1598.95      998.20     -37.571531\n",
      "7   ASIANPAINT  2024     3403.00     2472.20     -27.352336\n",
      "1     ADANIENT  2024     2852.30     2228.00     -21.887599\n",
      "65   NESTLEIND  2024     2665.00     2247.30     -15.673546\n",
      "83  TATACONSUM  2024     1080.42      945.20     -12.515503\n",
      "93       TITAN  2024     3689.00     3308.70     -10.309027\n",
      "23   BRITANNIA  2024     5339.00     4848.35      -9.189923\n",
      "15  BAJFINANCE  2024     7336.95     6683.95      -8.900156\n",
      "45  HINDUNILVR  2024     2663.85     2445.25      -8.206168\n",
      "57   KOTAKBANK  2024     1909.00     1761.45      -7.729178\n",
      "\n",
      " Number of Green Stocks: 86\n",
      "Number of Loss Stocks: 14\n",
      " Avg Price: 2450.20\n",
      " Avg Volume: 6833474.65\n"
     ]
    }
   ],
   "source": [
    "import pandas as pd\n",
    "from pathlib import Path\n",
    "\n",
    "def analyse_data():\n",
    "    file_path = Path(\"D:/projects/stock/output/combined.csv\")\n",
    "    df = pd.read_csv(file_path)\n",
    "\n",
    "    df['date'] = pd.to_datetime(df['date'])\n",
    "    df['year'] = df['date'].dt.year\n",
    "\n",
    "    # For yearly analysis\n",
    "    yearly_data = df.groupby(['Ticker', 'year']).agg(\n",
    "        first_open=('open', 'first'),\n",
    "        last_close=('close', 'last')\n",
    "    ).reset_index()\n",
    "\n",
    "    yearly_data['yearly_return'] = ((yearly_data['last_close'] - yearly_data['first_open']) / \n",
    "                                    yearly_data['first_open']) * 100\n",
    "    \n",
    "    top_10_green_stocks = yearly_data.nlargest(10, 'yearly_return')\n",
    "    top_10_loss_stocks = yearly_data.nsmallest(10, 'yearly_return')\n",
    "\n",
    "    green_stocks = (yearly_data['yearly_return'] > 0).sum()\n",
    "    loss_stocks = (yearly_data['yearly_return'] <= 0).sum()\n",
    "    \n",
    "    \n",
    "    df[\"average_price\"] = (df[\"open\"] + df[\"close\"]) / 2\n",
    "    avg_price = df[\"average_price\"].mean()\n",
    "\n",
    "    avg_volume = df[\"volume\"].mean()\n",
    "\n",
    "    print(f\"Top 10 Green Stocks:{top_10_green_stocks}\")\n",
    "    print(f\"\\n Top 10 Loss Stocks:{top_10_loss_stocks}\")\n",
    "    print(f\"\\n Number of Green Stocks: {green_stocks}\")\n",
    "    print(f\"Number of Loss Stocks: {loss_stocks}\")\n",
    "    print(f\"Avg Price: {avg_price:.2f}\")\n",
    "    print(f\"Avg Volume: {avg_volume:.2f}\")\n",
    "\n",
    "    return top_10_green_stocks, top_10_loss_stocks\n",
    "\n",
    "top_10_green_stocks, top_10_loss_stocks = analyse_data()\n"
   ]
  },
  {
   "cell_type": "code",
   "execution_count": null,
   "metadata": {},
   "outputs": [],
   "source": []
  }
 ],
 "metadata": {
  "kernelspec": {
   "display_name": ".venv",
   "language": "python",
   "name": "python3"
  },
  "language_info": {
   "codemirror_mode": {
    "name": "ipython",
    "version": 3
   },
   "file_extension": ".py",
   "mimetype": "text/x-python",
   "name": "python",
   "nbconvert_exporter": "python",
   "pygments_lexer": "ipython3",
   "version": "3.12.6"
  }
 },
 "nbformat": 4,
 "nbformat_minor": 2
}
