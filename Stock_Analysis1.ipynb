{
 "cells": [
  {
   "cell_type": "code",
   "execution_count": 20,
   "metadata": {},
   "outputs": [
    {
     "name": "stdout",
     "output_type": "stream",
     "text": [
      "Data saved to D:/projects/stock/output/combined.csv\n"
     ]
    }
   ],
   "source": [
    "import pandas as pd\n",
    "from pathlib import Path\n",
    "import yaml\n",
    "\n",
    "def yaml_to_csv(input_folder, output_file):\n",
    "    \"\"\"Extract data from YAML files and save as a combined CSV.\"\"\"\n",
    "    Path(output_file).parent.mkdir(parents=True, exist_ok=True)\n",
    "    combined_data = []\n",
    "\n",
    "    for month_path in Path(input_folder).iterdir():\n",
    "        if not month_path.is_dir():\n",
    "            continue\n",
    "\n",
    "        for file_path in month_path.glob('*.yaml'):\n",
    "            with open(file_path, 'r') as file:\n",
    "                data = yaml.safe_load(file)\n",
    "                combined_data.append(pd.DataFrame(data))\n",
    "\n",
    "    if combined_data:\n",
    "        combined_df = pd.concat(combined_data, ignore_index=True)\n",
    "        combined_df.to_csv(output_file, index=False)\n",
    "        print(f\"Data saved to {output_file}\")\n",
    "    else:\n",
    "        print(\"No data found.\")\n",
    "\n",
    "if __name__ == \"__main__\":\n",
    "    input_folder = \"D:/projects/stock/data\"\n",
    "    output_file = \"D:/projects/stock/output/combined.csv\"\n",
    "\n",
    "    yaml_to_csv(input_folder, output_file)"
   ]
  },
  {
   "cell_type": "code",
   "execution_count": null,
   "metadata": {},
   "outputs": [],
   "source": []
  }
 ],
 "metadata": {
  "kernelspec": {
   "display_name": ".venv",
   "language": "python",
   "name": "python3"
  },
  "language_info": {
   "codemirror_mode": {
    "name": "ipython",
    "version": 3
   },
   "file_extension": ".py",
   "mimetype": "text/x-python",
   "name": "python",
   "nbconvert_exporter": "python",
   "pygments_lexer": "ipython3",
   "version": "3.12.6"
  }
 },
 "nbformat": 4,
 "nbformat_minor": 2
}
