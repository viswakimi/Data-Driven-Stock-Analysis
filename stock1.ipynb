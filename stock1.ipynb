{
 "cells": [
  {
   "cell_type": "code",
   "execution_count": null,
   "metadata": {
    "vscode": {
     "languageId": "plaintext"
    }
   },
   "outputs": [],
   "source": [
    "import os\n",
    "import pandas as pd\n",
    "import yaml\n",
    "\n",
    "def yaml_to_csv(input_folder,output_folder,output_combined_file):\n",
    "    os.makedirs(output_folder,exist_ok=True)\n",
    "    \n",
    "    combined_data=[]\n",
    "\n",
    "    for month in os.listdir(input_folder):\n",
    "        month_path=os.path.join(input_folder,month)\n",
    "        if not os.path.isdir(month_path):\n",
    "            continue\n",
    "\n",
    "        for file in os.listdir(month_path):\n",
    "            file_path=os.path.join(month_path,file)\n",
    "            if not file.endswith(\".yaml\"):\n",
    "                continue\n",
    "\n",
    "            print(f\"file processsing:{file_path}\")\n",
    "\n",
    "            try:\n",
    "                with open(file_path,\"r\")as yaml_file:\n",
    "                    data=yaml.safe_load(yaml_file)\n",
    "                    df=pd.DataFrame(data)\n",
    "                    symbol=file.split(\".\")[0]                                   \n",
    "                    combined_data.append(df)\n",
    "                    output_path=os.path.join(output_folder,f\"{symbol}.csv\")\n",
    "                    df.to_csv(output_path,index=False)\n",
    "                    print(f\"saved csv:{output_path}\")\n",
    "\n",
    "            except Exception as e:\n",
    "                print(\"error occur{file_path}:{e}\")\n",
    "    \n",
    "    if combined_data:\n",
    "        combined_df=pd.concat(combined_data,ignore_index=True)\n",
    "        combined_df.to_csv(output_combined_file,index=False)\n",
    "        print(f\"saved combined csv:{output_path}\")\n",
    "\n",
    "\n",
    "yaml_to_csv(\"D:/projects/stock/data\", \"D:/projects/stock/outputcsv\", 'D:/projects/stock/outputcsv/combined.csv')               \n",
    "\n",
    "\n"
   ]
  }
 ],
 "metadata": {
  "language_info": {
   "name": "python"
  }
 },
 "nbformat": 4,
 "nbformat_minor": 2
}
